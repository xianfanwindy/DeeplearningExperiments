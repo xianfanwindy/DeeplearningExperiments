{
 "cells": [
  {
   "cell_type": "code",
   "execution_count": 1,
   "metadata": {},
   "outputs": [],
   "source": [
    "import torch\n",
    "import torch.nn as nn\n",
    "import torch.optim as optim\n",
    "from torchtext import data\n",
    "from torchtext import datasets\n",
    "import jieba\n",
    "from torchtext.vocab import Vectors\n",
    "import torch.nn.functional as F"
   ]
  },
  {
   "cell_type": "code",
   "execution_count": 4,
   "metadata": {},
   "outputs": [],
   "source": [
    "class CNNModel(nn.Module):\n",
    "    def __init__(self, vocab_size, embedding_dim, n_filters, filter_sizes, output_dim, dropout):\n",
    "        super().__init__()\n",
    "        self.embedding = nn.Embedding(vocab_size, embedding_dim)\n",
    "        \n",
    "        self.convs = nn.ModuleList([\n",
    "                                    nn.Conv2d(in_channels = 1, \n",
    "                                              out_channels = n_filters, \n",
    "                                              kernel_size = (fs, embedding_dim)) \n",
    "                                    for fs in filter_sizes\n",
    "                                    ])\n",
    "        \n",
    "        self.fc = nn.Linear(len(filter_sizes) * n_filters, output_dim)\n",
    "        \n",
    "        self.dropout = nn.Dropout(dropout)\n",
    "        \n",
    "    def forward(self,text):\n",
    "        #text = [sent len, batch size]\n",
    "        \n",
    "        text = text.permute(1, 0)\n",
    "                \n",
    "        #text = [batch size, sent len]\n",
    "        \n",
    "        embedded = self.embedding(text)\n",
    "                \n",
    "        #embedded = [batch size, sent len, emb dim]\n",
    "        \n",
    "        embedded = embedded.unsqueeze(1)\n",
    "        \n",
    "        #embedded = [batch size, 1, sent len, emb dim]\n",
    "        \n",
    "        conved = [F.relu(conv(embedded)).squeeze(3) for conv in self.convs]\n",
    "            \n",
    "        #conv_n = [batch size, n_filters, sent len - filter_sizes[n]]\n",
    "        \n",
    "        pooled = [F.max_pool1d(conv, conv.shape[2]).squeeze(2) for conv in conved]\n",
    "        \n",
    "        #pooled_n = [batch size, n_filters]\n",
    "        \n",
    "        cat = self.dropout(torch.cat(pooled, dim = 1))\n",
    "        #cat = torch.cat(pooled, dim = 1)\n",
    "        #cat = [batch size, n_filters * len(filter_sizes)]\n",
    "            \n",
    "        return self.fc(cat)\n",
    "    \n",
    "def tokenizer(text):\n",
    "    return [t.strip() for t in jieba.cut(text)]"
   ]
  },
  {
   "cell_type": "code",
   "execution_count": 5,
   "metadata": {},
   "outputs": [],
   "source": [
    "TEXT = data.Field(sequential=True,tokenize=tokenizer)\n",
    "LABEL = data.Field(sequential=False, use_vocab=False)\n",
    "train,test = data.TabularDataset.splits(\n",
    "        path='./', train='virus_train.csv', test='virus_test.csv' ,format='csv',skip_header=True,\n",
    "        fields=[('id',None),('content',TEXT),('label',LABEL)])\n",
    "vectors = Vectors(name='./weibo.vector.txt')\n",
    "TEXT.build_vocab(train,vectors=vectors)\n",
    "\n",
    "BATCH_SIZE = 32\n",
    "device = torch.device('cuda' if torch.cuda.is_available() else 'cpu')\n",
    "train_iterator, test_iterator = data.BucketIterator.splits(\n",
    "    (train, test), \n",
    "    batch_size = BATCH_SIZE,\n",
    "    sort = False,\n",
    "    device = device)"
   ]
  },
  {
   "cell_type": "code",
   "execution_count": 71,
   "metadata": {},
   "outputs": [],
   "source": [
    "INPUT_DIM = len(TEXT.vocab)\n",
    "EMBEDDING_DIM = 300\n",
    "N_FILTERS = 100\n",
    "FILTER_SIZES = [1,3,5]\n",
    "OUTPUT_DIM = 6\n",
    "DROPOUT = 0.5\n",
    "\n",
    "model = CNNModel(INPUT_DIM, EMBEDDING_DIM, N_FILTERS, FILTER_SIZES, OUTPUT_DIM, DROPOUT).to(device)"
   ]
  },
  {
   "cell_type": "code",
   "execution_count": 72,
   "metadata": {},
   "outputs": [
    {
     "data": {
      "text/plain": [
       "tensor([[ 0.0000,  0.0000,  0.0000,  ...,  0.0000,  0.0000,  0.0000],\n",
       "        [ 0.0000,  0.0000,  0.0000,  ...,  0.0000,  0.0000,  0.0000],\n",
       "        [-0.0907,  0.0099,  0.2848,  ..., -0.0727, -0.1706, -0.1358],\n",
       "        ...,\n",
       "        [ 0.0000,  0.0000,  0.0000,  ...,  0.0000,  0.0000,  0.0000],\n",
       "        [ 0.0000,  0.0000,  0.0000,  ...,  0.0000,  0.0000,  0.0000],\n",
       "        [ 0.0000,  0.0000,  0.0000,  ...,  0.0000,  0.0000,  0.0000]],\n",
       "       device='cuda:0')"
      ]
     },
     "execution_count": 72,
     "metadata": {},
     "output_type": "execute_result"
    }
   ],
   "source": [
    "model.embedding.weight.data.copy_(TEXT.vocab.vectors)"
   ]
  },
  {
   "cell_type": "code",
   "execution_count": 73,
   "metadata": {},
   "outputs": [],
   "source": [
    "optimizer = optim.Adam(model.parameters())\n",
    "\n",
    "criterion = nn.CrossEntropyLoss()\n",
    "\n",
    "criterion = criterion.to(device)"
   ]
  },
  {
   "cell_type": "code",
   "execution_count": 74,
   "metadata": {},
   "outputs": [
    {
     "name": "stdout",
     "output_type": "stream",
     "text": [
      "epoch 1, loss : 283.3010131716728, accur : 0.6165465953985592\n",
      "epoch 2, loss : 240.86555108428, accur : 0.6745293980943528\n",
      "epoch 3, loss : 194.4969670921564, accur : 0.7514524750174297\n",
      "epoch 4, loss : 146.10253557562828, accur : 0.8275621659307459\n",
      "epoch 5, loss : 105.48146730661392, accur : 0.8733441784801301\n",
      "epoch 6, loss : 78.49531762301922, accur : 0.907273994887288\n",
      "epoch 7, loss : 60.39220277965069, accur : 0.9302811991633744\n",
      "epoch 8, loss : 48.209789864718914, accur : 0.9455031373460376\n",
      "epoch 9, loss : 42.27574396878481, accur : 0.9546827794561934\n",
      "epoch 10, loss : 34.9427613504231, accur : 0.958284917499419\n"
     ]
    }
   ],
   "source": [
    "N_EPOCHES = 10\n",
    "TOTAL = len(train_iterator.dataset)\n",
    "train_epoch_loss = []\n",
    "test_epoch_loss = []\n",
    "for i in range(N_EPOCHES):\n",
    "    train_accur = 0\n",
    "    epoch_loss = 0.0\n",
    "    test_loss = 0.0\n",
    "    for batch in train_iterator:\n",
    "        \n",
    "        optimizer.zero_grad()\n",
    "        \n",
    "        predictions = model(batch.content)\n",
    "        \n",
    "        loss = criterion(predictions, batch.label)\n",
    "                \n",
    "        loss.backward()\n",
    "        \n",
    "        optimizer.step()\n",
    "        \n",
    "        epoch_loss += loss.item()\n",
    "        train_accur += predictions.argmax(dim = 1).eq(batch.label).sum().item()\n",
    "    \n",
    "    print(\"epoch {}, loss : {}, accur : {}\".format(i + 1, epoch_loss, train_accur / TOTAL))\n",
    "    train_epoch_loss.append(epoch_loss)\n",
    "    \n",
    "    for batch in test_iterator:\n",
    "        predictions = model(batch.content)\n",
    "\n",
    "        loss = criterion(predictions, batch.label)\n",
    "\n",
    "        test_loss += loss.item()\n",
    "    test_epoch_loss.append(test_loss)"
   ]
  },
  {
   "cell_type": "code",
   "execution_count": 82,
   "metadata": {},
   "outputs": [
    {
     "name": "stdout",
     "output_type": "stream",
     "text": [
      "test loss: 90.34558898210526, test accur : 0.6545\n"
     ]
    }
   ],
   "source": [
    "model.eval()\n",
    "test_loss = 0.0\n",
    "test_accur = 0\n",
    "test_len = len(test_iterator.dataset)\n",
    "y_true = []\n",
    "y_pred = []\n",
    "for batch in test_iterator:\n",
    "    predictions = model(batch.content)\n",
    "    \n",
    "    loss = criterion(predictions, batch.label)\n",
    "    \n",
    "    test_loss += loss.item()\n",
    "    \n",
    "    test_accur += predictions.argmax(dim = 1).eq(batch.label).sum().item()\n",
    "    \n",
    "    y_true.extend(batch.label.detach().cpu().numpy())\n",
    "    y_pred.extend(predictions.argmax(dim = 1).detach().cpu().numpy())\n",
    "print(\"test loss: {}, test accur : {}\".format(test_loss, test_accur / test_len))"
   ]
  },
  {
   "cell_type": "code",
   "execution_count": 68,
   "metadata": {},
   "outputs": [],
   "source": [
    "from sklearn.metrics import precision_score,recall_score,f1_score"
   ]
  },
  {
   "cell_type": "code",
   "execution_count": 57,
   "metadata": {},
   "outputs": [],
   "source": [
    "import numpy as np"
   ]
  },
  {
   "cell_type": "code",
   "execution_count": 58,
   "metadata": {},
   "outputs": [],
   "source": [
    "y_true = np.array(y_true)\n",
    "y_pred = np.array(y_pred)"
   ]
  },
  {
   "cell_type": "code",
   "execution_count": 70,
   "metadata": {},
   "outputs": [
    {
     "data": {
      "text/plain": [
       "0.5278168974307018"
      ]
     },
     "execution_count": 70,
     "metadata": {},
     "output_type": "execute_result"
    }
   ],
   "source": [
    "precision_score(y_true = y_true, y_pred = y_pred,average='macro')"
   ]
  },
  {
   "cell_type": "code",
   "execution_count": 67,
   "metadata": {},
   "outputs": [
    {
     "data": {
      "text/plain": [
       "0.5010372346048008"
      ]
     },
     "execution_count": 67,
     "metadata": {},
     "output_type": "execute_result"
    }
   ],
   "source": [
    "recall_score(y_true,y_pred,average='macro')"
   ]
  },
  {
   "cell_type": "code",
   "execution_count": 69,
   "metadata": {},
   "outputs": [
    {
     "data": {
      "text/plain": [
       "0.5109107294648714"
      ]
     },
     "execution_count": 69,
     "metadata": {},
     "output_type": "execute_result"
    }
   ],
   "source": [
    "f1_score(y_true=y_true,y_pred=y_pred,average='macro')"
   ]
  },
  {
   "cell_type": "code",
   "execution_count": 75,
   "metadata": {},
   "outputs": [],
   "source": [
    "from matplotlib import pyplot as plt"
   ]
  },
  {
   "cell_type": "code",
   "execution_count": 79,
   "metadata": {},
   "outputs": [],
   "source": [
    "x = np.arange(1, N_EPOCHES + 1)"
   ]
  },
  {
   "cell_type": "code",
   "execution_count": 81,
   "metadata": {},
   "outputs": [
    {
     "data": {
      "image/png": "[encoded data removed]",
      "text/plain": [
       "<Figure size 432x288 with 1 Axes>"
      ]
     },
     "metadata": {
      "needs_background": "light"
     },
     "output_type": "display_data"
    }
   ],
   "source": [
    "plt.plot(x,train_epoch_loss,label='train')\n",
    "plt.plot(x,test_epoch_loss, label = 'test')\n",
    "plt.legend()\n",
    "plt.show()"
   ]
  }
 ],
 "metadata": {
  "kernelspec": {
   "display_name": "Python 3",
   "language": "python",
   "name": "python3"
  },
  "language_info": {
   "codemirror_mode": {
    "name": "ipython",
    "version": 3
   },
   "file_extension": ".py",
   "mimetype": "text/x-python",
   "name": "python",
   "nbconvert_exporter": "python",
   "pygments_lexer": "ipython3",
   "version": "3.7.6"
  }
 },
 "nbformat": 4,
 "nbformat_minor": 4
}
