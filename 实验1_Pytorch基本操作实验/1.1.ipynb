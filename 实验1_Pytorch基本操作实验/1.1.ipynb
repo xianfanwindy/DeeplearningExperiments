{
 "cells": [
  {
   "cell_type": "code",
   "execution_count": 1,
   "id": "b362a290",
   "metadata": {},
   "outputs": [],
   "source": [
    "import torch"
   ]
  },
  {
   "cell_type": "code",
   "execution_count": 13,
   "id": "4b006b06",
   "metadata": {},
   "outputs": [
    {
     "name": "stdout",
     "output_type": "stream",
     "text": [
      "tensor([[-0.0300, -0.6091, -0.4898],\n",
      "        [ 0.3798, -0.1992, -0.0800]])\n",
      "tensor([[-0.0300, -0.6091, -0.4898],\n",
      "        [ 0.3798, -0.1992, -0.0800]])\n",
      "tensor([[0.9395, 0.3604, 0.4797]])\n"
     ]
    }
   ],
   "source": [
    "#减法形式一\n",
    "m=torch.rand(1,3)\n",
    "n=torch.rand(2,1)\n",
    "print(m-n)\n",
    "\n",
    "#减法形式二\n",
    "print(torch.sub(m,n))\n",
    "\n",
    "#减法形式三，inplace（原地操作）\n",
    "m.sub(n)\n",
    "print(m)"
   ]
  },
  {
   "cell_type": "code",
   "execution_count": null,
   "id": "1fda1c2b",
   "metadata": {},
   "outputs": [],
   "source": []
  }
 ],
 "metadata": {
  "kernelspec": {
   "display_name": "Python 3 (ipykernel)",
   "language": "python",
   "name": "python3"
  },
  "language_info": {
   "codemirror_mode": {
    "name": "ipython",
    "version": 3
   },
   "file_extension": ".py",
   "mimetype": "text/x-python",
   "name": "python",
   "nbconvert_exporter": "python",
   "pygments_lexer": "ipython3",
   "version": "3.7.13"
  }
 },
 "nbformat": 4,
 "nbformat_minor": 5
}
