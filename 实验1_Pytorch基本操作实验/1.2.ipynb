{
 "cells": [
  {
   "cell_type": "code",
   "execution_count": 2,
   "id": "b7739ab4",
   "metadata": {},
   "outputs": [
    {
     "name": "stdout",
     "output_type": "stream",
     "text": [
      "tensor([[ 3.6125e-05, -2.9861e-06, -4.0926e-05, -6.3285e-05],\n",
      "        [ 3.6515e-05, -3.4407e-07, -4.3597e-05, -4.6663e-05],\n",
      "        [ 2.7008e-05,  5.2135e-06, -3.6803e-05,  8.7229e-07]])\n"
     ]
    }
   ],
   "source": [
    "import torch\n",
    "p=torch.normal(0,0.01,(3,2))\n",
    "q=torch.normal(0,0.01,(4,2))\n",
    "q_t=q.t()\n",
    "res=torch.matmul(p,q_t)\n",
    "print(res)"
   ]
  },
  {
   "cell_type": "code",
   "execution_count": null,
   "id": "1a777e66",
   "metadata": {},
   "outputs": [],
   "source": []
  }
 ],
 "metadata": {
  "kernelspec": {
   "display_name": "Python 3 (ipykernel)",
   "language": "python",
   "name": "python3"
  },
  "language_info": {
   "codemirror_mode": {
    "name": "ipython",
    "version": 3
   },
   "file_extension": ".py",
   "mimetype": "text/x-python",
   "name": "python",
   "nbconvert_exporter": "python",
   "pygments_lexer": "ipython3",
   "version": "3.7.13"
  }
 },
 "nbformat": 4,
 "nbformat_minor": 5
}
